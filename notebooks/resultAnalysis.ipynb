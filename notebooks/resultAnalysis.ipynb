{
 "cells": [
  {
   "cell_type": "code",
   "execution_count": 1,
   "metadata": {
    "collapsed": true
   },
   "outputs": [],
   "source": [
    "import os\n",
    "import pandas as pd\n",
    "import numpy as np\n",
    "import pickle\n",
    "import matplotlib.pyplot as plt\n",
    "\n"
   ]
  },
  {
   "cell_type": "code",
   "execution_count": 2,
   "outputs": [],
   "source": [
    "plt.rcParams[\"figure.figsize\"] = (20,20)\n",
    "\n"
   ],
   "metadata": {
    "collapsed": false,
    "pycharm": {
     "name": "#%%\n"
    }
   }
  },
  {
   "cell_type": "code",
   "execution_count": 3,
   "outputs": [],
   "source": [
    "path = os.getcwd()\n",
    "\n"
   ],
   "metadata": {
    "collapsed": false,
    "pycharm": {
     "name": "#%%\n"
    }
   }
  },
  {
   "cell_type": "code",
   "execution_count": null,
   "outputs": [],
   "source": [
    "def readPickle(datapath):\n",
    "    objects = []\n",
    "    with (open(datapath, \"rb\")) as openfile:\n",
    "        while True:\n",
    "            try:\n",
    "                objects.append(pickle.load(openfile))\n",
    "            except EOFError:\n",
    "                break\n",
    "    return objects\n",
    "\n"
   ],
   "metadata": {
    "collapsed": false,
    "pycharm": {
     "name": "#%%\n"
    }
   }
  },
  {
   "cell_type": "code",
   "execution_count": null,
   "outputs": [],
   "source": [
    "datapath = os.path.join(path, \"../../results/agentList.pkl\")\n",
    "with open(datapath, 'rb') as f:\n",
    "    agentList = pickle.load(f)\n",
    "\n"
   ],
   "metadata": {
    "collapsed": false,
    "pycharm": {
     "name": "#%%\n"
    }
   }
  },
  {
   "cell_type": "code",
   "execution_count": null,
   "outputs": [],
   "source": [
    "datapath = os.path.join(path, \"../../results/returns.pkl\")\n",
    "objects = readPickle(datapath)\n",
    "returns = []\n",
    "for obj in objects:\n",
    "    returns = returns + obj\n",
    "\n"
   ],
   "metadata": {
    "collapsed": false,
    "pycharm": {
     "name": "#%%\n"
    }
   }
  },
  {
   "cell_type": "code",
   "execution_count": null,
   "outputs": [],
   "source": [
    "datapath = os.path.join(path, \"../../results/loss.pkl\")\n",
    "objects = readPickle(datapath)\n",
    "loss = []\n",
    "for obj in objects:\n",
    "    loss = loss + obj\n",
    "\n"
   ],
   "metadata": {
    "collapsed": false,
    "pycharm": {
     "name": "#%%\n"
    }
   }
  },
  {
   "cell_type": "code",
   "execution_count": 7,
   "outputs": [],
   "source": [
    "datapath = os.path.join(path, \"../../results/congestionStatus.pkl\")\n",
    "objects = []\n",
    "with (open(datapath, \"rb\")) as openfile:\n",
    "    while True:\n",
    "        try:\n",
    "            objects.append(pickle.load(openfile))\n",
    "        except EOFError:\n",
    "            break\n",
    "congestionStatus = pd.concat(objects, axis=0, ignore_index=False)\n",
    "\n"
   ],
   "metadata": {
    "collapsed": false,
    "pycharm": {
     "name": "#%%\n"
    }
   }
  },
  {
   "cell_type": "code",
   "execution_count": null,
   "outputs": [],
   "source": [
    "num_iterations = 1000\n",
    "eval_interval = 20\n",
    "log_interval = 10\n",
    "ret_steps = range(0, num_iterations + 1, eval_interval)\n",
    "loss_steps = range(0, num_iterations, log_interval)\n",
    "\n"
   ],
   "metadata": {
    "collapsed": false,
    "pycharm": {
     "name": "#%%\n"
    }
   }
  },
  {
   "cell_type": "code",
   "execution_count": null,
   "outputs": [],
   "source": [
    "fig, axs = plt.subplots(3, 2)\n",
    "i = 0\n",
    "for j in range(3):\n",
    "    for k in range(2):\n",
    "        agent_returns = [ret[i] for ret in returns]\n",
    "        axs[j, k].plot(ret_steps, agent_returns, 'tab:green')\n",
    "        axs[j, k].set(ylabel='Avg Return - {}'.format(agentList[i]), xlabel='Step')\n",
    "        i += 1\n",
    "\n"
   ],
   "metadata": {
    "collapsed": false,
    "pycharm": {
     "name": "#%%\n"
    }
   }
  },
  {
   "cell_type": "code",
   "execution_count": null,
   "outputs": [],
   "source": [
    "fig, axs = plt.subplots(3, 2)\n",
    "i = 0\n",
    "for j in range(3):\n",
    "    for k in range(2):\n",
    "        agent_loss = [l[i] for l in loss]\n",
    "        axs[j, k].plot(loss_steps, agent_loss, 'tab:red')\n",
    "        axs[j, k].set(ylabel='Loss - {}'.format(agentList[i]), xlabel='Step')\n",
    "        i += 1\n",
    "\n"
   ],
   "metadata": {
    "collapsed": false,
    "pycharm": {
     "name": "#%%\n"
    }
   }
  },
  {
   "cell_type": "code",
   "execution_count": null,
   "outputs": [],
   "source": [
    "congestionSeries = congestionStatus.sum(axis=1).values\n",
    "plt.plot(range(0,len(congestionSeries)), congestionSeries)\n",
    "\n"
   ],
   "metadata": {
    "collapsed": false,
    "pycharm": {
     "name": "#%%\n"
    }
   }
  }
 ],
 "metadata": {
  "kernelspec": {
   "display_name": "Python 3",
   "language": "python",
   "name": "python3"
  },
  "language_info": {
   "codemirror_mode": {
    "name": "ipython",
    "version": 2
   },
   "file_extension": ".py",
   "mimetype": "text/x-python",
   "name": "python",
   "nbconvert_exporter": "python",
   "pygments_lexer": "ipython2",
   "version": "2.7.6"
  }
 },
 "nbformat": 4,
 "nbformat_minor": 0
}