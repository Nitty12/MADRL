{
 "cells": [
  {
   "cell_type": "code",
   "execution_count": 2,
   "metadata": {},
   "outputs": [],
   "source": [
    "import os\n",
    "import pandas as pd\n",
    "import numpy as np\n",
    "import pickle\n",
    "import matplotlib.pyplot as plt\n",
    "import tensorflow as tf\n"
   ]
  },
  {
   "cell_type": "code",
   "execution_count": 388,
   "metadata": {},
   "outputs": [],
   "source": [
    "# plt.rcParams[\"figure.figsize\"] = (10,10)"
   ]
  },
  {
   "cell_type": "code",
   "execution_count": 389,
   "metadata": {
    "pycharm": {
     "name": "#%%\n"
    }
   },
   "outputs": [],
   "source": [
    "path = os.getcwd()"
   ]
  },
  {
   "cell_type": "code",
   "execution_count": 6,
   "metadata": {
    "pycharm": {
     "name": "#%%\n"
    }
   },
   "outputs": [],
   "source": [
    "def readPickle(datapath):\n",
    "    objects = []\n",
    "    with (open(datapath, \"rb\")) as openfile:\n",
    "        while True:\n",
    "            try:\n",
    "                objects.append(pickle.load(openfile))\n",
    "            except EOFError:\n",
    "                break\n",
    "    return objects"
   ]
  },
  {
   "cell_type": "code",
   "execution_count": 248,
   "metadata": {
    "pycharm": {
     "name": "#%%\n"
    }
   },
   "outputs": [],
   "source": [
    "alg ='MADDPG'\n",
    "\n",
    "relPath = \"../../results/\"+alg+\"/agentList.pkl\"\n",
    "datapath = os.path.join(path, relPath)\n",
    "with open(datapath, 'rb') as f:\n",
    "    agentList = pickle.load(f)\n",
    "    \n",
    "relPath = \"../../results/\"+alg+\"/totalReturns.pkl\"   \n",
    "datapath = os.path.join(path, relPath)\n",
    "objects = readPickle(datapath)\n",
    "totalReturns = []\n",
    "for obj in objects:\n",
    "    totalReturns = totalReturns + obj\n",
    "    \n",
    "relPath = \"../../results/\"+alg+\"/loss.pkl\"   \n",
    "datapath = os.path.join(path, relPath)\n",
    "objects = readPickle(datapath)\n",
    "loss = []\n",
    "for obj in objects:\n",
    "    loss = loss + obj\n",
    "\n",
    "relPath = \"../../results/\"+alg+\"/congested.pkl\"   \n",
    "datapath = os.path.join(path, relPath)\n",
    "congested = readPickle(datapath)\n",
    "relPath = \"../../results/\"+alg+\"/top 5 percent loading.pkl\"   \n",
    "datapath = os.path.join(path, relPath)\n",
    "percent5 = readPickle(datapath)\n",
    "relPath = \"../../results/\"+alg+\"/top 2.5 percent loading.pkl\"   \n",
    "datapath = os.path.join(path, relPath)\n",
    "percent2_5 = readPickle(datapath)"
   ]
  },
  {
   "cell_type": "code",
   "execution_count": 227,
   "metadata": {
    "pycharm": {
     "name": "#%%\n"
    }
   },
   "outputs": [],
   "source": [
    "num_iterations = len(loss)\n",
    "eval_interval = int(len(loss)/len(totalReturns))\n",
    "ret_steps = range(1, num_iterations + 1, eval_interval)\n",
    "loss_steps = range(1, num_iterations + 1)"
   ]
  },
  {
   "cell_type": "code",
   "execution_count": 228,
   "metadata": {
    "pycharm": {
     "name": "#%%\n"
    },
    "scrolled": false
   },
   "outputs": [
    {
     "data": {
      "text/plain": [
       "['k14n3h24_149_nsPVErsatzeinsp',\n",
       " 'k69dea_262_wea',\n",
       " 'k33d_BatteryStorage',\n",
       " 'k49n16h408_595_nsEmobErsatzLast.2',\n",
       " 'k14n3h29_73_nsWPErsatzlast_flex',\n",
       " 'k49n16b58_nsBetrieb_Business Base_flex']"
      ]
     },
     "execution_count": 228,
     "metadata": {},
     "output_type": "execute_result"
    }
   ],
   "source": [
    "agentList"
   ]
  },
  {
   "cell_type": "code",
   "execution_count": 237,
   "metadata": {},
   "outputs": [],
   "source": [
    "n=25\n",
    "totalReturns = totalReturns[:n]\n",
    "loss = loss[:n]\n",
    "num_iterations = n\n",
    "eval_interval = 1\n",
    "ret_steps = range(1, num_iterations+1, eval_interval)\n",
    "loss_steps = range(1, num_iterations + 1)"
   ]
  },
  {
   "cell_type": "code",
   "execution_count": 205,
   "metadata": {},
   "outputs": [],
   "source": [
    "relPath = \"../Results/MADDPG_1_month_3_agents_less_update/totalReturns.pkl\"   \n",
    "datapath = os.path.join(path, relPath)\n",
    "objects = readPickle(datapath)\n",
    "tr = []\n",
    "for obj in objects:\n",
    "    tr = tr + obj\n",
    "tr = tr[:150]\n",
    "\n",
    "relPath = \"../Results/MADDPG_1_month_3_agents_medium_update/totalReturns.pkl\"   \n",
    "datapath = os.path.join(path, relPath)\n",
    "objects = readPickle(datapath)\n",
    "trm = []\n",
    "for obj in objects:\n",
    "    trm = trm + obj\n",
    "trm = trm[:150]"
   ]
  },
  {
   "cell_type": "code",
   "execution_count": 244,
   "metadata": {},
   "outputs": [],
   "source": [
    "def returnPlot(num, agent):\n",
    "    agent_returns = [ret[num] for ret in totalReturns]\n",
    "    ar = [ret[num] for ret in tr]\n",
    "    arm = [ret[num] for ret in trm]\n",
    "#     plt.plot(ret_steps, ar, 'tab:blue')\n",
    "#     plt.plot(ret_steps, arm, 'tab:green')\n",
    "    plt.plot(ret_steps, agent_returns, 'maroon')\n",
    "    plt.xlabel(\"Step\")\n",
    "#     plt.ylabel('Avg Return - {}'.format(agentList[num]))\n",
    "    plt.ylabel('Avg Return - {} agent'.format(agent))\n",
    "#     plt.legend(['less update', 'medium update', 'more update'], loc='lower right')\n",
    "#     plt.xticks(range(0, num_iterations, 5))\n",
    "    plt.locator_params(axis='y', nbins=5)\n",
    "    plt.locator_params(axis='x', nbins=5)\n",
    "    relPath = \"../../results/\"+alg+\"/\"+agentList[num]+\"_1week.pdf\"\n",
    "    datapath = os.path.join(path, relPath)\n",
    "    plt.savefig(datapath)\n",
    "    plt.show()\n",
    "    plt.clf()"
   ]
  },
  {
   "cell_type": "code",
   "execution_count": 245,
   "metadata": {
    "scrolled": false
   },
   "outputs": [],
   "source": [
    "# returnPlot(0, \"PV\")\n",
    "# returnPlot(1, \"PV\")\n",
    "# returnPlot(2, \"PV\")\n",
    "# returnPlot(3, \"Wind\")\n",
    "# returnPlot(4, \"Wind\")\n",
    "# returnPlot(5, \"Wind\")\n",
    "# returnPlot(6, \"Battery\")\n",
    "# returnPlot(7, \"Battery\")\n",
    "# returnPlot(8, \"Battery\")\n",
    "# returnPlot(9, \"EV\")\n",
    "# returnPlot(10, \"EV\")\n",
    "# returnPlot(11, \"EV\")\n",
    "# returnPlot(12, \"HP\")\n",
    "# returnPlot(13, \"HP\")\n",
    "# returnPlot(14, \"HP\")\n",
    "# returnPlot(15, \"DSM\")\n",
    "# returnPlot(16, \"DSM\")\n",
    "# returnPlot(17, \"DSM\")"
   ]
  },
  {
   "cell_type": "code",
   "execution_count": 246,
   "metadata": {},
   "outputs": [
    {
     "data": {
      "image/png": "[encoded data removed]",
      "text/plain": [
       "<Figure size 432x288 with 1 Axes>"
      ]
     },
     "metadata": {
      "needs_background": "light"
     },
     "output_type": "display_data"
    },
    {
     "data": {
      "image/png": "[encoded data removed]",
      "text/plain": [
       "<Figure size 432x288 with 1 Axes>"
      ]
     },
     "metadata": {
      "needs_background": "light"
     },
     "output_type": "display_data"
    },
    {
     "data": {
      "image/png": "[encoded data removed]",
      "text/plain": [
       "<Figure size 432x288 with 1 Axes>"
      ]
     },
     "metadata": {
      "needs_background": "light"
     },
     "output_type": "display_data"
    },
    {
     "data": {
      "image/png": "[encoded data removed]",
      "text/plain": [
       "<Figure size 432x288 with 1 Axes>"
      ]
     },
     "metadata": {
      "needs_background": "light"
     },
     "output_type": "display_data"
    },
    {
     "data": {
      "image/png": "[encoded data removed]",
      "text/plain": [
       "<Figure size 432x288 with 1 Axes>"
      ]
     },
     "metadata": {
      "needs_background": "light"
     },
     "output_type": "display_data"
    },
    {
     "data": {
      "image/png": "[encoded data removed]",
      "text/plain": [
       "<Figure size 432x288 with 1 Axes>"
      ]
     },
     "metadata": {
      "needs_background": "light"
     },
     "output_type": "display_data"
    },
    {
     "data": {
      "text/plain": [
       "<Figure size 432x288 with 0 Axes>"
      ]
     },
     "metadata": {},
     "output_type": "display_data"
    }
   ],
   "source": [
    "returnPlot(0, \"PV\")\n",
    "returnPlot(1, \"Wind\")\n",
    "returnPlot(2, \"Battery\")\n",
    "returnPlot(3, \"EV\")\n",
    "returnPlot(4, \"HP\")\n",
    "returnPlot(5, \"DSM\")"
   ]
  },
  {
   "cell_type": "code",
   "execution_count": 386,
   "metadata": {
    "pycharm": {
     "name": "#%%\n"
    },
    "scrolled": false
   },
   "outputs": [],
   "source": [
    "# plt.plot(loss_steps, loss)\n",
    "# plt.show()"
   ]
  },
  {
   "cell_type": "code",
   "execution_count": 119,
   "metadata": {
    "scrolled": false
   },
   "outputs": [],
   "source": [
    "relPath = \"../../results/\"+alg+\"/Actions.pkl\"   \n",
    "datapath = os.path.join(path, relPath)\n",
    "objects = readPickle(datapath)\n",
    "Actions = []\n",
    "for obj in objects:\n",
    "    Actions = Actions + list(obj)"
   ]
  },
  {
   "cell_type": "code",
   "execution_count": 120,
   "metadata": {},
   "outputs": [],
   "source": [
    "def convergencePlot(num, agent):\n",
    "    nAgents = 6\n",
    "    period = 1\n",
    "    eval_interval = 1\n",
    "    ActCollectAndEval = [a for i, a in enumerate(Actions) if i%nAgents==num]\n",
    "    Act=[]\n",
    "    for i, a in enumerate(ActCollectAndEval):\n",
    "        if i%(period+eval_interval)>eval_interval-1:\n",
    "            Act.append(a)\n",
    "    sbm, fbm, fpm = [], [], []\n",
    "    for i in range(1, 10):\n",
    "#     for i in range(1, len(Act)-1):\n",
    "        val_sbm, val_fbm, val_fpm = 0.0, 0.0, 0.0\n",
    "        for n in range(24):\n",
    "            val_sbm += abs(Act[i+1][0][n] - Act[i][0][n])\n",
    "        val_sbm /= 24\n",
    "        sbm.append(val_sbm)\n",
    "        for n in range(24, 48):\n",
    "            val_fbm += abs(Act[i+1][0][n] - Act[i][0][n])\n",
    "        val_fbm /= 24\n",
    "        fbm.append(val_fbm)\n",
    "        for n in range(48, 72):\n",
    "            val_fpm += abs(Act[i+1][0][n] - Act[i][0][n])\n",
    "        val_fpm /= 24\n",
    "        fpm.append(val_fpm)\n",
    "\n",
    "    plt.gca().set_prop_cycle(plt.cycler('color', plt.cm.Accent(np.linspace(0, 1, 3))))\n",
    "    steps = range(len(sbm))\n",
    "    plt.plot(steps, sbm)\n",
    "    plt.plot(steps, fbm)\n",
    "    plt.plot(steps, fpm)\n",
    "    plt.xlabel(\"Step\")\n",
    "    plt.ylabel('{} agent'.format(agent))\n",
    "\n",
    "    plt.legend(['sbm', 'fbm', 'fpm'], loc='upper right')\n",
    "    relPath = \"../../results/\"+alg+\"/convergence_\"+agent+\".pdf\"\n",
    "    datapath = os.path.join(path, relPath)\n",
    "    plt.savefig(datapath)\n",
    "    plt.show()\n",
    "    plt.clf()"
   ]
  },
  {
   "cell_type": "code",
   "execution_count": 157,
   "metadata": {},
   "outputs": [],
   "source": [
    "# convergencePlot(0, \"PV\")\n",
    "# convergencePlot(1, \"Wind\")\n",
    "# convergencePlot(2, \"Battery\")\n",
    "# convergencePlot(3, \"EV\")\n",
    "# convergencePlot(4, \"HP\")\n",
    "# convergencePlot(5, \"DSM\")"
   ]
  },
  {
   "cell_type": "code",
   "execution_count": 158,
   "metadata": {
    "scrolled": false
   },
   "outputs": [],
   "source": [
    "# convergencePlot(0, \"PV\")\n",
    "# convergencePlot(1, \"PV\")\n",
    "# convergencePlot(2, \"PV\")\n",
    "# convergencePlot(3, \"Wind\")\n",
    "# convergencePlot(4, \"Wind\")\n",
    "# convergencePlot(5, \"Wind\")\n",
    "# convergencePlot(6, \"Battery\")\n",
    "# convergencePlot(7, \"Battery\")\n",
    "# convergencePlot(8, \"Battery\")\n",
    "# convergencePlot(9, \"EV\")\n",
    "# convergencePlot(10, \"EV\")\n",
    "# convergencePlot(11, \"EV\")\n",
    "# convergencePlot(12, \"HP\")\n",
    "# convergencePlot(13, \"HP\")\n",
    "# convergencePlot(14, \"HP\")\n",
    "# convergencePlot(15, \"DSM\")\n",
    "# convergencePlot(16, \"DSM\")\n",
    "# convergencePlot(17, \"DSM\")\n",
    "# convergencePlot(0, \"PV\")\n",
    "# convergencePlot(1, \"Wind\")\n",
    "# convergencePlot(2, \"Battery\")\n",
    "# convergencePlot(3, \"EV\")\n",
    "# convergencePlot(4, \"HP\")\n",
    "# convergencePlot(5, \"DSM\")"
   ]
  },
  {
   "cell_type": "code",
   "execution_count": 221,
   "metadata": {},
   "outputs": [],
   "source": [
    "relPath = \"../../results/\"+alg+\"/loss_less.pkl\"   \n",
    "datapath = os.path.join(path, relPath)\n",
    "objects = readPickle(datapath)\n",
    "loss_less = []\n",
    "for obj in objects:\n",
    "    loss_less = loss_less + obj\n",
    "relPath = \"../../results/\"+alg+\"/loss_medium.pkl\"   \n",
    "datapath = os.path.join(path, relPath)\n",
    "objects = readPickle(datapath)\n",
    "loss_medium = []\n",
    "for obj in objects:\n",
    "    loss_medium = loss_medium + obj\n",
    "relPath = \"../../results/\"+alg+\"/loss_more.pkl\"   \n",
    "datapath = os.path.join(path, relPath)\n",
    "objects = readPickle(datapath)\n",
    "loss_more = []\n",
    "for obj in objects:\n",
    "    loss_more = loss_more + obj"
   ]
  },
  {
   "cell_type": "code",
   "execution_count": 252,
   "metadata": {},
   "outputs": [
    {
     "data": {
      "image/png": "[encoded data removed]",
      "text/plain": [
       "<Figure size 432x288 with 1 Axes>"
      ]
     },
     "metadata": {
      "needs_background": "light"
     },
     "output_type": "display_data"
    }
   ],
   "source": [
    "# path = os.getcwd()\n",
    "# relPath = \"../Results/MADDPG_1_day_6_agents/loss.pkl\"\n",
    "# datapath = os.path.join(path, relPath)\n",
    "# objects = readPickle(datapath)\n",
    "# l = []\n",
    "# for obj in objects:\n",
    "#     l = l + obj\n",
    "\n",
    "l=loss[:180]\n",
    "df = pd.DataFrame(l, columns=['Loss'])\n",
    "# loss_less=loss_less[:150]\n",
    "# loss_medium=loss_medium[:150]\n",
    "# loss_more=loss_more[:150]\n",
    "# df_less = pd.DataFrame(loss_less, columns=['Loss'])\n",
    "# df_medium = pd.DataFrame(loss_medium, columns=['Loss'])\n",
    "# df_more = pd.DataFrame(loss_more, columns=['Loss'])\n",
    "def smooth(scalars, weight):  # Weight between 0 and 1\n",
    "    last = scalars[0]  # First value in the plot (first timestep)\n",
    "    smoothed = list()\n",
    "    for point in scalars:\n",
    "        smoothed_val = last * weight + (1 - weight) * point  # Calculate smoothed value\n",
    "        smoothed.append(smoothed_val)                        # Save it\n",
    "        last = smoothed_val                                  # Anchor the last smoothed value\n",
    "\n",
    "    return smoothed\n",
    "# df_less['MA'] = smooth(df_less['Loss'], 0.7)\n",
    "# df_medium['MA'] = smooth(df_medium['Loss'], 0.7)\n",
    "# df_more['MA'] = smooth(df_more['Loss'], 0.7)\n",
    "# plt.plot(range(len(loss_less)), df_less['MA'],  'tab:orange')\n",
    "# plt.plot(range(len(loss_less)), df_medium['MA'],  'tab:brown')\n",
    "# plt.plot(range(len(loss_less)), df_more['MA'],  'tab:gray')\n",
    "# plt.legend(['less update', 'medium update', 'more update'], loc='upper left')\n",
    "df['MA'] = smooth(df['Loss'], 0.5)\n",
    "plt.plot(range(len(l)), df['Loss'],  color='0.85')\n",
    "plt.plot(range(len(l)), df['MA'],  'chocolate')\n",
    "\n",
    "\n",
    "plt.xlabel(\"Step\")\n",
    "plt.ylabel('Loss')\n",
    "plt.xticks(range(0, len(l), 20))\n",
    "relPath = \"../../results/\"+alg+\"/loss.pdf\"\n",
    "datapath = os.path.join(path, relPath)\n",
    "plt.savefig(datapath)\n",
    "plt.show()"
   ]
  },
  {
   "cell_type": "code",
   "execution_count": null,
   "metadata": {},
   "outputs": [],
   "source": []
  }
 ],
 "metadata": {
  "kernelspec": {
   "display_name": "Python 3",
   "language": "python",
   "name": "python3"
  },
  "language_info": {
   "codemirror_mode": {
    "name": "ipython",
    "version": 3
   },
   "file_extension": ".py",
   "mimetype": "text/x-python",
   "name": "python",
   "nbconvert_exporter": "python",
   "pygments_lexer": "ipython3",
   "version": "3.7.7"
  }
 },
 "nbformat": 4,
 "nbformat_minor": 1
}
